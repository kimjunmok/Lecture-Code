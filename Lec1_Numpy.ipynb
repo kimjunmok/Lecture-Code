{
 "cells": [
  {
   "cell_type": "markdown",
   "metadata": {
    "id": "qp50HeOc1hxF"
   },
   "source": [
    "# Numpy\n",
    "\n",
    "file made with Yeongho Lee, UNIST"
   ]
  },
  {
   "cell_type": "markdown",
   "metadata": {
    "id": "-iHcYlRi1hxK"
   },
   "source": [
    "- **Numpy** is the basic package for data analysis with Python, specialized for computation of arrays.   \n",
    "This package is also the basis of other popular packages including **Pandas**.\n",
    "\n"
   ]
  },
  {
   "cell_type": "markdown",
   "metadata": {
    "id": "IPe2iu0z2IPG"
   },
   "source": [
    "### Import Numpy\n",
    "\n"
   ]
  },
  {
   "cell_type": "code",
   "execution_count": 1,
   "metadata": {
    "ExecuteTime": {
     "end_time": "2021-09-07T09:00:00.822948Z",
     "start_time": "2021-09-07T09:00:00.809290Z"
    },
    "id": "fz2OhWmS1hxN"
   },
   "outputs": [],
   "source": [
    "import numpy as np"
   ]
  },
  {
   "cell_type": "markdown",
   "metadata": {
    "id": "dy7gjr-C1hxP"
   },
   "source": [
    "### Basics"
   ]
  },
  {
   "cell_type": "markdown",
   "metadata": {
    "id": "24lnQ6m4eib3"
   },
   "source": [
    "- Vectors"
   ]
  },
  {
   "cell_type": "code",
   "execution_count": 2,
   "metadata": {
    "ExecuteTime": {
     "end_time": "2021-09-07T09:00:42.537480Z",
     "start_time": "2021-09-07T09:00:42.529502Z"
    },
    "colab": {
     "base_uri": "https://localhost:8080/"
    },
    "id": "yBRhKJsY1hxR",
    "outputId": "4083af3f-a6ea-4d9c-911d-510fd897fb89"
   },
   "outputs": [
    {
     "name": "stdout",
     "output_type": "stream",
     "text": [
      "[1, 2, 3]\n",
      "[1 2 3]\n"
     ]
    }
   ],
   "source": [
    "a = [1,2,3] # list\n",
    "b = np.array([1,2,3]) #ndarry\n",
    "\n",
    "print(a)\n",
    "print(b)"
   ]
  },
  {
   "cell_type": "code",
   "execution_count": 3,
   "metadata": {
    "colab": {
     "base_uri": "https://localhost:8080/"
    },
    "id": "-MelnqLePr7F",
    "outputId": "d97d2b83-9808-4352-fcd3-d0355fe6e72c"
   },
   "outputs": [
    {
     "data": {
      "text/plain": [
       "array([1, 2, 3])"
      ]
     },
     "execution_count": 3,
     "metadata": {},
     "output_type": "execute_result"
    }
   ],
   "source": [
    "np.array(a)"
   ]
  },
  {
   "cell_type": "code",
   "execution_count": 4,
   "metadata": {
    "colab": {
     "base_uri": "https://localhost:8080/"
    },
    "id": "4EW6bgnHZNdV",
    "outputId": "2726133b-c207-4981-9505-456e5f29df76"
   },
   "outputs": [
    {
     "data": {
      "text/plain": [
       "array([1, 2, 3])"
      ]
     },
     "execution_count": 4,
     "metadata": {},
     "output_type": "execute_result"
    }
   ],
   "source": [
    "b"
   ]
  },
  {
   "cell_type": "code",
   "execution_count": 5,
   "metadata": {
    "colab": {
     "base_uri": "https://localhost:8080/"
    },
    "id": "p5osVbld1hxV",
    "outputId": "e8802ffa-ed4a-476e-d27c-94e197f6dda8"
   },
   "outputs": [
    {
     "name": "stdout",
     "output_type": "stream",
     "text": [
      "[1, 2, 3, 4, 5, 6]\n",
      "[5 7 9]\n"
     ]
    }
   ],
   "source": [
    "print([1,2,3]+[4,5,6]) #list \n",
    "print(np.array([1,2,3])+np.array([4,5,6])) #ndarry "
   ]
  },
  {
   "cell_type": "code",
   "execution_count": 6,
   "metadata": {
    "colab": {
     "base_uri": "https://localhost:8080/"
    },
    "id": "c2HUdnAVeib-",
    "outputId": "11255fc3-a985-4f15-b512-5af1d338935b"
   },
   "outputs": [
    {
     "name": "stdout",
     "output_type": "stream",
     "text": [
      "1\n",
      "[1 2]\n"
     ]
    }
   ],
   "source": [
    "#indexing\n",
    "\n",
    "print(b[0])\n",
    "print(b[0:2])"
   ]
  },
  {
   "cell_type": "code",
   "execution_count": 7,
   "metadata": {
    "ExecuteTime": {
     "end_time": "2021-09-07T09:03:45.735426Z",
     "start_time": "2021-09-07T09:03:45.712825Z"
    },
    "colab": {
     "base_uri": "https://localhost:8080/"
    },
    "id": "wJZhPR_D1hxX",
    "outputId": "baae47c6-88bc-4569-dd79-52c1e5d79cd9"
   },
   "outputs": [
    {
     "data": {
      "text/plain": [
       "array([2, 4, 6])"
      ]
     },
     "execution_count": 7,
     "metadata": {},
     "output_type": "execute_result"
    }
   ],
   "source": [
    "b+b"
   ]
  },
  {
   "cell_type": "code",
   "execution_count": 8,
   "metadata": {
    "ExecuteTime": {
     "end_time": "2021-09-07T09:03:48.945721Z",
     "start_time": "2021-09-07T09:03:48.936695Z"
    },
    "colab": {
     "base_uri": "https://localhost:8080/"
    },
    "id": "zK1jzTBa1hxZ",
    "outputId": "d3663e4b-8d45-4f5a-a35f-71ceab9ed738"
   },
   "outputs": [
    {
     "data": {
      "text/plain": [
       "array([1, 4, 9])"
      ]
     },
     "execution_count": 8,
     "metadata": {},
     "output_type": "execute_result"
    }
   ],
   "source": [
    "b*b # this is not matrix multiplication"
   ]
  },
  {
   "cell_type": "code",
   "execution_count": 9,
   "metadata": {
    "ExecuteTime": {
     "end_time": "2021-09-07T09:03:52.645100Z",
     "start_time": "2021-09-07T09:03:52.632120Z"
    },
    "colab": {
     "base_uri": "https://localhost:8080/"
    },
    "id": "fnUkPoNg1hxb",
    "outputId": "a58d074b-14d8-4876-ec3c-5f53691f46be"
   },
   "outputs": [
    {
     "data": {
      "text/plain": [
       "array([1., 1., 1.])"
      ]
     },
     "execution_count": 9,
     "metadata": {},
     "output_type": "execute_result"
    }
   ],
   "source": [
    "b/b"
   ]
  },
  {
   "cell_type": "code",
   "execution_count": 10,
   "metadata": {
    "colab": {
     "base_uri": "https://localhost:8080/"
    },
    "id": "Axme3MbR2aU6",
    "outputId": "a2062a8c-49e8-4872-a76d-19a387d0f061"
   },
   "outputs": [
    {
     "data": {
      "text/plain": [
       "array([2, 4, 6])"
      ]
     },
     "execution_count": 10,
     "metadata": {},
     "output_type": "execute_result"
    }
   ],
   "source": [
    "2 * b"
   ]
  },
  {
   "cell_type": "code",
   "execution_count": 11,
   "metadata": {
    "colab": {
     "base_uri": "https://localhost:8080/"
    },
    "id": "gswxinfB2aa0",
    "outputId": "a840ab81-57af-4219-c764-157e8fa55422"
   },
   "outputs": [
    {
     "data": {
      "text/plain": [
       "array([0.2, 0.4, 0.6])"
      ]
     },
     "execution_count": 11,
     "metadata": {},
     "output_type": "execute_result"
    }
   ],
   "source": [
    "b/5"
   ]
  },
  {
   "cell_type": "code",
   "execution_count": 12,
   "metadata": {
    "colab": {
     "base_uri": "https://localhost:8080/"
    },
    "id": "96txIHVS1hxc",
    "outputId": "5004ea70-db54-4ea9-e7b9-84ec2bca7192"
   },
   "outputs": [
    {
     "name": "stdout",
     "output_type": "stream",
     "text": [
      "<class 'numpy.ndarray'>\n",
      "(3,)\n"
     ]
    }
   ],
   "source": [
    "print(type(b))\n",
    "print(b.shape)"
   ]
  },
  {
   "cell_type": "markdown",
   "metadata": {
    "id": "W2DNvJhp1hxe"
   },
   "source": [
    "- Matrices"
   ]
  },
  {
   "cell_type": "code",
   "execution_count": 13,
   "metadata": {
    "ExecuteTime": {
     "end_time": "2021-09-07T09:06:58.865945Z",
     "start_time": "2021-09-07T09:06:58.856054Z"
    },
    "colab": {
     "base_uri": "https://localhost:8080/"
    },
    "id": "9QecJDt_1hxe",
    "outputId": "f1331866-b871-4c42-d523-8888fef4f0a1"
   },
   "outputs": [
    {
     "data": {
      "text/plain": [
       "array([[ 2,  5, 18, 14,  4],\n",
       "       [12, 15,  1,  2,  8]])"
      ]
     },
     "execution_count": 13,
     "metadata": {},
     "output_type": "execute_result"
    }
   ],
   "source": [
    "mat=np.array([[2,5,18,14,4], [12,15,1,2,8]])\n",
    "mat"
   ]
  },
  {
   "cell_type": "code",
   "execution_count": 14,
   "metadata": {
    "colab": {
     "base_uri": "https://localhost:8080/"
    },
    "id": "7QyumXyJ1hxg",
    "outputId": "6e7c9aa3-d778-4e48-ccb7-6bce7a812438"
   },
   "outputs": [
    {
     "name": "stdout",
     "output_type": "stream",
     "text": [
      "1\n",
      "1\n"
     ]
    }
   ],
   "source": [
    "#indexing\n",
    "\n",
    "print(mat[1,2]) # Element in 2nd row, 3rd column\n",
    "print(mat[1][2])"
   ]
  },
  {
   "cell_type": "code",
   "execution_count": 15,
   "metadata": {
    "ExecuteTime": {
     "end_time": "2021-09-07T09:12:45.606976Z",
     "start_time": "2021-09-07T09:12:45.594488Z"
    },
    "colab": {
     "base_uri": "https://localhost:8080/"
    },
    "id": "YWARfyAG1hxj",
    "outputId": "2f584ec2-1b45-4129-e2a1-e088d94fa88a"
   },
   "outputs": [
    {
     "name": "stdout",
     "output_type": "stream",
     "text": [
      "[ 2  5 18 14  4]\n"
     ]
    }
   ],
   "source": [
    "print(mat[0,:]) "
   ]
  },
  {
   "cell_type": "code",
   "execution_count": 16,
   "metadata": {
    "ExecuteTime": {
     "end_time": "2021-09-07T09:13:03.393274Z",
     "start_time": "2021-09-07T09:13:03.375804Z"
    },
    "colab": {
     "base_uri": "https://localhost:8080/"
    },
    "id": "zvsHzK9o1hxk",
    "outputId": "4b0c1992-77cb-4b2b-bdbf-ca65d61451d3"
   },
   "outputs": [
    {
     "name": "stdout",
     "output_type": "stream",
     "text": [
      "[ 2 12]\n"
     ]
    }
   ],
   "source": [
    "print(mat[:,0]) "
   ]
  },
  {
   "cell_type": "code",
   "execution_count": 17,
   "metadata": {
    "colab": {
     "base_uri": "https://localhost:8080/"
    },
    "id": "syw3zXaj1hxn",
    "outputId": "e96311d8-f92b-44ec-f8e3-ce16b87b4e71"
   },
   "outputs": [
    {
     "name": "stdout",
     "output_type": "stream",
     "text": [
      "[1 2]\n"
     ]
    }
   ],
   "source": [
    "print(mat[1,2:4])"
   ]
  },
  {
   "cell_type": "code",
   "execution_count": 18,
   "metadata": {
    "colab": {
     "base_uri": "https://localhost:8080/"
    },
    "id": "CAz0LcKu1hxo",
    "outputId": "718185a5-0ec6-4315-a16c-77ef8931d7de",
    "scrolled": true
   },
   "outputs": [
    {
     "name": "stdout",
     "output_type": "stream",
     "text": [
      "[[18 14]\n",
      " [ 1  2]]\n"
     ]
    }
   ],
   "source": [
    "print(mat[:,2:4])"
   ]
  },
  {
   "cell_type": "code",
   "execution_count": 19,
   "metadata": {
    "ExecuteTime": {
     "end_time": "2021-09-07T09:14:59.855945Z",
     "start_time": "2021-09-07T09:14:59.848404Z"
    },
    "colab": {
     "base_uri": "https://localhost:8080/"
    },
    "id": "0JDkKIZK1hxh",
    "outputId": "882f87de-f682-4ace-e0b2-a46f01541785"
   },
   "outputs": [
    {
     "name": "stdout",
     "output_type": "stream",
     "text": [
      "(2, 5)\n"
     ]
    }
   ],
   "source": [
    "print(mat.shape) "
   ]
  },
  {
   "cell_type": "markdown",
   "metadata": {
    "id": "OSUVHIMX1hxl"
   },
   "source": [
    "※ Numpy arrays are not restricted to 2-dimensional arrays.\n",
    "We can construct n-dimensional arrays for any n:\n",
    "\n",
    "\n"
   ]
  },
  {
   "cell_type": "code",
   "execution_count": 20,
   "metadata": {
    "ExecuteTime": {
     "end_time": "2021-09-07T09:33:53.254716Z",
     "start_time": "2021-09-07T09:33:53.237238Z"
    },
    "id": "cEHpWNhe1hxl",
    "scrolled": true
   },
   "outputs": [],
   "source": [
    "mat2=np.array([[[2,5,18,14,4], [12,15,1,2,8]],[[3,5,8,12,7], [11,1,0,20,8]]])"
   ]
  },
  {
   "cell_type": "code",
   "execution_count": 21,
   "metadata": {
    "ExecuteTime": {
     "end_time": "2021-09-07T09:33:55.163377Z",
     "start_time": "2021-09-07T09:33:55.149603Z"
    },
    "colab": {
     "base_uri": "https://localhost:8080/"
    },
    "id": "xjCRwKb11hxn",
    "outputId": "fbe1aa94-e090-4a7c-8ace-6296120e4fb8"
   },
   "outputs": [
    {
     "name": "stdout",
     "output_type": "stream",
     "text": [
      "1\n",
      "1\n",
      "(2, 2, 5)\n"
     ]
    }
   ],
   "source": [
    "print(mat2[0,1,2])\n",
    "print(mat2[0][1][2])\n",
    "print(mat2.shape)"
   ]
  },
  {
   "cell_type": "code",
   "execution_count": 22,
   "metadata": {
    "colab": {
     "base_uri": "https://localhost:8080/"
    },
    "id": "Fpp0OaQx1hxu",
    "outputId": "d518c900-5aff-46e9-936f-91e776e34e48",
    "scrolled": true
   },
   "outputs": [
    {
     "name": "stdout",
     "output_type": "stream",
     "text": [
      "[[0.60496716 0.44619995 0.66985679 0.50524558 0.80889479]\n",
      " [0.31046278 0.36515741 0.79323181 0.2703596  0.52142266]\n",
      " [0.08600509 0.04025616 0.66377514 0.85856036 0.37413589]\n",
      " [0.49233057 0.18351347 0.47944002 0.34160531 0.72064294]\n",
      " [0.33846223 0.86728571 0.9094446  0.6401719  0.57712836]]\n"
     ]
    }
   ],
   "source": [
    "x = np.random.rand(5,5) \n",
    "print(x)\n",
    "#each element is sampled from the uniform distribution [0,1)"
   ]
  },
  {
   "cell_type": "code",
   "execution_count": 23,
   "metadata": {
    "colab": {
     "base_uri": "https://localhost:8080/"
    },
    "id": "8m-dwRHS1hxv",
    "outputId": "d806f0f6-e42a-4be9-df8f-975335a0c5d6"
   },
   "outputs": [
    {
     "name": "stdout",
     "output_type": "stream",
     "text": [
      "[[89 99 35]\n",
      " [35 49 97]]\n"
     ]
    }
   ],
   "source": [
    "x = np.random.randint(100,size=(2,3))\n",
    "print(x)\n"
   ]
  },
  {
   "cell_type": "code",
   "execution_count": 24,
   "metadata": {
    "colab": {
     "base_uri": "https://localhost:8080/"
    },
    "id": "riYJPgYc1hxw",
    "outputId": "b7ade42b-93cc-45cb-9f9a-dfb22c721942"
   },
   "outputs": [
    {
     "name": "stdout",
     "output_type": "stream",
     "text": [
      "[[0. 0. 0. 0.]\n",
      " [0. 0. 0. 0.]\n",
      " [0. 0. 0. 0.]\n",
      " [0. 0. 0. 0.]]\n"
     ]
    }
   ],
   "source": [
    "x = np.zeros((4,4))\n",
    "print(x)"
   ]
  },
  {
   "cell_type": "code",
   "execution_count": 25,
   "metadata": {
    "colab": {
     "base_uri": "https://localhost:8080/"
    },
    "id": "p_Z8E5Ak1hxw",
    "outputId": "c0ec24c6-1d76-4bc0-efd9-3d9b2e9eb1dd"
   },
   "outputs": [
    {
     "name": "stdout",
     "output_type": "stream",
     "text": [
      "[[1. 1. 1. 1.]\n",
      " [1. 1. 1. 1.]\n",
      " [1. 1. 1. 1.]\n",
      " [1. 1. 1. 1.]]\n"
     ]
    }
   ],
   "source": [
    "x = np.ones((4,4))\n",
    "print(x)"
   ]
  },
  {
   "cell_type": "code",
   "execution_count": 26,
   "metadata": {
    "colab": {
     "base_uri": "https://localhost:8080/"
    },
    "id": "PSXjo9lk1hxx",
    "outputId": "d79ae2d0-d524-4a06-82be-d529b7a2232e"
   },
   "outputs": [
    {
     "name": "stdout",
     "output_type": "stream",
     "text": [
      "[[1. 0. 0. 0.]\n",
      " [0. 1. 0. 0.]\n",
      " [0. 0. 1. 0.]\n",
      " [0. 0. 0. 1.]]\n"
     ]
    }
   ],
   "source": [
    "x = np.eye(4)\n",
    "print(x)"
   ]
  },
  {
   "cell_type": "code",
   "execution_count": 27,
   "metadata": {
    "ExecuteTime": {
     "end_time": "2021-09-07T09:16:13.395371Z",
     "start_time": "2021-09-07T09:16:13.391381Z"
    },
    "colab": {
     "base_uri": "https://localhost:8080/"
    },
    "id": "3tF4tzXN1hxy",
    "outputId": "e4a5f906-fc3a-4237-eb75-d4d5e34849ff"
   },
   "outputs": [
    {
     "name": "stdout",
     "output_type": "stream",
     "text": [
      "[[1. 0. 0. 0.]\n",
      " [0. 1. 0. 0.]\n",
      " [0. 0. 1. 0.]\n",
      " [0. 0. 0. 1.]]\n"
     ]
    }
   ],
   "source": [
    "x = np.identity(4)\n",
    "print(x)"
   ]
  },
  {
   "cell_type": "code",
   "execution_count": 28,
   "metadata": {
    "ExecuteTime": {
     "end_time": "2021-09-07T10:41:26.273479Z",
     "start_time": "2021-09-07T10:41:26.261957Z"
    },
    "colab": {
     "base_uri": "https://localhost:8080/"
    },
    "id": "rgSVqxoB1hyI",
    "outputId": "8ffa1482-08d8-4983-9510-6e531f837f1f"
   },
   "outputs": [
    {
     "name": "stdout",
     "output_type": "stream",
     "text": [
      "[[1 2]\n",
      " [4 5]]\n",
      "[[0 2]\n",
      " [4 5]]\n",
      "[[0 2 3]\n",
      " [4 5 6]]\n"
     ]
    }
   ],
   "source": [
    "#Be carefull!!!\n",
    "\n",
    "Mat=np.array([[1,2,3],[4,5,6]])\n",
    "B=Mat[:2,:2]\n",
    "print(B)\n",
    "B[0,0]=0\n",
    "print(B)\n",
    "print(Mat)"
   ]
  },
  {
   "cell_type": "markdown",
   "metadata": {
    "id": "grL8ZwHi1hyJ"
   },
   "source": [
    "- To avoid the above problem, use `numpy.copy()` function:"
   ]
  },
  {
   "cell_type": "code",
   "execution_count": 29,
   "metadata": {
    "ExecuteTime": {
     "end_time": "2021-09-07T10:41:29.056142Z",
     "start_time": "2021-09-07T10:41:29.045617Z"
    },
    "colab": {
     "base_uri": "https://localhost:8080/"
    },
    "id": "Pqxagtsd1hyK",
    "outputId": "19f940c5-443c-485f-df47-0bc29dcf5ea3"
   },
   "outputs": [
    {
     "name": "stdout",
     "output_type": "stream",
     "text": [
      "[[1 2]\n",
      " [4 5]]\n",
      "[[0 2]\n",
      " [4 5]]\n",
      "[[1 2 3]\n",
      " [4 5 6]]\n"
     ]
    }
   ],
   "source": [
    "Mat=np.array([[1,2,3],[4,5,6]])\n",
    "B=np.copy(Mat[:2,:2])\n",
    "print(B)\n",
    "B[0,0]=0\n",
    "print(B)\n",
    "print(Mat)"
   ]
  },
  {
   "cell_type": "code",
   "execution_count": 30,
   "metadata": {
    "ExecuteTime": {
     "end_time": "2021-09-07T10:41:31.861743Z",
     "start_time": "2021-09-07T10:41:31.853794Z"
    },
    "colab": {
     "base_uri": "https://localhost:8080/"
    },
    "id": "SRRTaoHS1hyL",
    "outputId": "b4675f0c-11e3-4119-9ca0-5106f8cbb60f"
   },
   "outputs": [
    {
     "name": "stdout",
     "output_type": "stream",
     "text": [
      "[[0.36521673 0.02395318 0.19710769]\n",
      " [0.17489704 0.52619128 0.71526798]\n",
      " [0.09479927 0.93559598 0.92462854]\n",
      " [0.55957248 0.49121886 0.5625831 ]]\n"
     ]
    }
   ],
   "source": [
    "x = np.random.rand(4,3)\n",
    "print(x)"
   ]
  },
  {
   "cell_type": "code",
   "execution_count": 31,
   "metadata": {
    "colab": {
     "base_uri": "https://localhost:8080/"
    },
    "id": "fZFxb4fP4BZQ",
    "outputId": "1d72ae88-a933-41da-8c53-229c7ac65392"
   },
   "outputs": [
    {
     "name": "stdout",
     "output_type": "stream",
     "text": [
      "[[ 0.36521673  0.02395318  0.19710769]\n",
      " [ 0.17489704  0.52619128 -5.        ]\n",
      " [ 0.09479927  0.93559598  0.92462854]\n",
      " [ 0.55957248  0.49121886  0.5625831 ]]\n"
     ]
    }
   ],
   "source": [
    "x[1,2] = -5 \n",
    "print(x)"
   ]
  },
  {
   "cell_type": "code",
   "execution_count": 32,
   "metadata": {
    "colab": {
     "base_uri": "https://localhost:8080/"
    },
    "id": "jL1Z4t864BkR",
    "outputId": "0cfac465-68f4-44db-fefc-921b7c7c3111"
   },
   "outputs": [
    {
     "name": "stdout",
     "output_type": "stream",
     "text": [
      "[[ 1.36521673  1.02395318  1.19710769]\n",
      " [ 1.17489704  1.52619128 -4.        ]\n",
      " [ 0.09479927  0.93559598  0.92462854]\n",
      " [ 0.55957248  0.49121886  0.5625831 ]]\n"
     ]
    }
   ],
   "source": [
    "x[0:2,:] += 1 \n",
    "print(x)"
   ]
  },
  {
   "cell_type": "code",
   "execution_count": 33,
   "metadata": {
    "colab": {
     "base_uri": "https://localhost:8080/"
    },
    "id": "EykuyNQw4Bxu",
    "outputId": "c7ee494e-026b-4e74-c2e4-8ff67b3a3aa1"
   },
   "outputs": [
    {
     "name": "stdout",
     "output_type": "stream",
     "text": [
      "[[ 1.36521673  1.02395318  1.19710769]\n",
      " [ 1.17489704  1.52619128 -4.        ]\n",
      " [ 0.09479927  0.5         0.5       ]\n",
      " [ 0.55957248  0.5         0.5       ]]\n"
     ]
    }
   ],
   "source": [
    "x[2:4,1:3] = 0.5 \n",
    "print(x)"
   ]
  },
  {
   "cell_type": "code",
   "execution_count": 34,
   "metadata": {
    "colab": {
     "base_uri": "https://localhost:8080/"
    },
    "id": "232tT0K94CQ-",
    "outputId": "9e17df1a-4832-44c5-d4c1-9406f5e17822"
   },
   "outputs": [
    {
     "name": "stdout",
     "output_type": "stream",
     "text": [
      "[[ 0.          0.          0.        ]\n",
      " [ 0.          0.         -4.        ]\n",
      " [ 0.09479927  0.5         0.5       ]\n",
      " [ 0.          0.5         0.5       ]]\n"
     ]
    }
   ],
   "source": [
    "x[x>0.5] = 0\n",
    "print(x)"
   ]
  },
  {
   "cell_type": "code",
   "execution_count": 35,
   "metadata": {
    "colab": {
     "base_uri": "https://localhost:8080/"
    },
    "id": "Lf-9PsRLeicm",
    "outputId": "32b74cf9-2946-49f9-d154-9b46cc721761"
   },
   "outputs": [
    {
     "data": {
      "text/plain": [
       "array([[ 0.        ,  0.        ,  0.        ],\n",
       "       [ 0.        ,  0.        , -4.        ],\n",
       "       [ 0.09479927,  0.5       ,  0.5       ],\n",
       "       [ 0.        ,  0.5       ,  0.5       ]])"
      ]
     },
     "execution_count": 35,
     "metadata": {},
     "output_type": "execute_result"
    }
   ],
   "source": [
    "x"
   ]
  },
  {
   "cell_type": "code",
   "execution_count": 36,
   "metadata": {
    "colab": {
     "base_uri": "https://localhost:8080/"
    },
    "id": "54PVosDU1hyM",
    "outputId": "ee6f37b4-6e36-4448-d07a-71b152fae38d"
   },
   "outputs": [
    {
     "data": {
      "text/plain": [
       "array([[False, False, False],\n",
       "       [False, False, False],\n",
       "       [False,  True,  True],\n",
       "       [False,  True,  True]])"
      ]
     },
     "execution_count": 36,
     "metadata": {},
     "output_type": "execute_result"
    }
   ],
   "source": [
    "x>0.1"
   ]
  },
  {
   "cell_type": "code",
   "execution_count": 37,
   "metadata": {
    "ExecuteTime": {
     "end_time": "2021-09-07T10:41:49.418357Z",
     "start_time": "2021-09-07T10:41:49.399885Z"
    },
    "colab": {
     "base_uri": "https://localhost:8080/"
    },
    "id": "yas7GZmK1hyM",
    "outputId": "65446d95-7a69-4821-bcd2-9bd226fb2b7f"
   },
   "outputs": [
    {
     "name": "stdout",
     "output_type": "stream",
     "text": [
      "[[ 1.          1.          1.        ]\n",
      " [ 1.          1.         -7.        ]\n",
      " [ 1.18959854  2.          2.        ]\n",
      " [ 1.          2.          2.        ]]\n"
     ]
    }
   ],
   "source": [
    "print(2*x+1)"
   ]
  },
  {
   "cell_type": "markdown",
   "metadata": {
    "id": "z0g9DX_Qeicn"
   },
   "source": [
    "### Matrix multiplication"
   ]
  },
  {
   "cell_type": "code",
   "execution_count": 38,
   "metadata": {
    "id": "lqvvETQteicn"
   },
   "outputs": [],
   "source": [
    "A=np.random.rand(4,3)"
   ]
  },
  {
   "cell_type": "code",
   "execution_count": 39,
   "metadata": {
    "id": "MDVXI7QWeicn"
   },
   "outputs": [],
   "source": [
    "B=np.random.rand(3,3)"
   ]
  },
  {
   "cell_type": "code",
   "execution_count": 40,
   "metadata": {
    "colab": {
     "base_uri": "https://localhost:8080/"
    },
    "id": "fyS5pSvZeico",
    "outputId": "0c4584b1-5700-4151-e800-203d1cb43a2a"
   },
   "outputs": [
    {
     "data": {
      "text/plain": [
       "array([[0.72065931, 0.9179208 , 0.65062198],\n",
       "       [0.87203606, 1.1602384 , 1.05004485],\n",
       "       [0.21480967, 0.20634608, 0.43661844],\n",
       "       [0.36646117, 0.50133148, 0.18112942]])"
      ]
     },
     "execution_count": 40,
     "metadata": {},
     "output_type": "execute_result"
    }
   ],
   "source": [
    "A.dot(B) "
   ]
  },
  {
   "cell_type": "code",
   "execution_count": 41,
   "metadata": {
    "colab": {
     "base_uri": "https://localhost:8080/"
    },
    "id": "B5SEwBMxeico",
    "outputId": "5b5ed617-5ed8-429d-84f4-f172da82123f"
   },
   "outputs": [
    {
     "data": {
      "text/plain": [
       "array([[0.72065931, 0.9179208 , 0.65062198],\n",
       "       [0.87203606, 1.1602384 , 1.05004485],\n",
       "       [0.21480967, 0.20634608, 0.43661844],\n",
       "       [0.36646117, 0.50133148, 0.18112942]])"
      ]
     },
     "execution_count": 41,
     "metadata": {},
     "output_type": "execute_result"
    }
   ],
   "source": [
    "np.dot(A,B)"
   ]
  },
  {
   "cell_type": "code",
   "execution_count": 42,
   "metadata": {
    "colab": {
     "base_uri": "https://localhost:8080/",
     "height": 174
    },
    "id": "8QtmKE7Geico",
    "outputId": "dc69e139-cca6-4c9a-f4b9-f984bc43b367"
   },
   "outputs": [
    {
     "ename": "ValueError",
     "evalue": "ignored",
     "output_type": "error",
     "traceback": [
      "\u001b[0;31m---------------------------------------------------------------------------\u001b[0m",
      "\u001b[0;31mValueError\u001b[0m                                Traceback (most recent call last)",
      "\u001b[0;32m<ipython-input-42-d482a1f78eb8>\u001b[0m in \u001b[0;36m<module>\u001b[0;34m\u001b[0m\n\u001b[0;32m----> 1\u001b[0;31m \u001b[0mB\u001b[0m\u001b[0;34m.\u001b[0m\u001b[0mdot\u001b[0m\u001b[0;34m(\u001b[0m\u001b[0mA\u001b[0m\u001b[0;34m)\u001b[0m\u001b[0;34m\u001b[0m\u001b[0;34m\u001b[0m\u001b[0m\n\u001b[0m",
      "\u001b[0;31mValueError\u001b[0m: shapes (3,3) and (4,3) not aligned: 3 (dim 1) != 4 (dim 0)"
     ]
    }
   ],
   "source": [
    "B.dot(A)"
   ]
  },
  {
   "cell_type": "markdown",
   "metadata": {
    "id": "4BEHJWS-eicp"
   },
   "source": [
    "Note !!"
   ]
  },
  {
   "cell_type": "code",
   "execution_count": 43,
   "metadata": {
    "colab": {
     "base_uri": "https://localhost:8080/"
    },
    "id": "KoaJ4OUjeicp",
    "outputId": "8258df39-a446-4d5a-8dbf-5501ffceecc7"
   },
   "outputs": [
    {
     "data": {
      "text/plain": [
       "array([[0.99545884, 0.62196653, 0.34127708],\n",
       "       [0.91411571, 0.7401018 , 0.95939433],\n",
       "       [0.09005369, 0.47504404, 0.23535741],\n",
       "       [0.63747538, 0.15606845, 0.06833003]])"
      ]
     },
     "execution_count": 43,
     "metadata": {},
     "output_type": "execute_result"
    }
   ],
   "source": [
    "A"
   ]
  },
  {
   "cell_type": "code",
   "execution_count": 44,
   "metadata": {
    "colab": {
     "base_uri": "https://localhost:8080/"
    },
    "id": "Jj_WB-ozeicp",
    "outputId": "95f44f1a-66bf-4d2f-b0f5-dfa2f76e7444"
   },
   "outputs": [
    {
     "data": {
      "text/plain": [
       "(4, 3)"
      ]
     },
     "execution_count": 44,
     "metadata": {},
     "output_type": "execute_result"
    }
   ],
   "source": [
    "A.shape"
   ]
  },
  {
   "cell_type": "code",
   "execution_count": 45,
   "metadata": {
    "ExecuteTime": {
     "end_time": "2021-09-07T10:44:21.593373Z",
     "start_time": "2021-09-07T10:44:21.578390Z"
    },
    "colab": {
     "base_uri": "https://localhost:8080/"
    },
    "id": "b6iQ8FiB1hyR",
    "outputId": "1402d879-a690-412e-890e-e47ca9e6f478"
   },
   "outputs": [
    {
     "name": "stdout",
     "output_type": "stream",
     "text": [
      "[0.99545884 0.91411571 0.09005369 0.63747538]\n"
     ]
    }
   ],
   "source": [
    "y = np.array([1,0,0]) # 3 * 1\n",
    "print(A.dot(y))"
   ]
  },
  {
   "cell_type": "code",
   "execution_count": 46,
   "metadata": {
    "ExecuteTime": {
     "end_time": "2021-09-07T10:44:21.593373Z",
     "start_time": "2021-09-07T10:44:21.578390Z"
    },
    "colab": {
     "base_uri": "https://localhost:8080/"
    },
    "id": "yh4WCU1Peicq",
    "outputId": "1d232dd8-d030-4333-d8aa-306c53784d2a"
   },
   "outputs": [
    {
     "name": "stdout",
     "output_type": "stream",
     "text": [
      "[1.08551253 1.09701057 0.5766345 ]\n"
     ]
    }
   ],
   "source": [
    "y = np.array([1,0,1,0]) #  1 * 4\n",
    "print(y.dot(A))"
   ]
  },
  {
   "cell_type": "code",
   "execution_count": 47,
   "metadata": {
    "colab": {
     "base_uri": "https://localhost:8080/"
    },
    "id": "SucWUWKeeicr",
    "outputId": "1c11261b-2e49-4d5e-d62b-73ae429062c6"
   },
   "outputs": [
    {
     "data": {
      "text/plain": [
       "(4,)"
      ]
     },
     "execution_count": 47,
     "metadata": {},
     "output_type": "execute_result"
    }
   ],
   "source": [
    "y.shape"
   ]
  },
  {
   "cell_type": "markdown",
   "metadata": {
    "id": "G-yU2nWPlC15"
   },
   "source": [
    "https://stats.stackexchange.com/questions/284995/are-1-dimensional-numpy-arrays-equivalent-to-vectors"
   ]
  },
  {
   "cell_type": "markdown",
   "metadata": {
    "id": "vyXaJ53-eicr"
   },
   "source": [
    "$\\rightarrow$ Python automatically transposes the one-dimensional array with shape (n,) in a way that matrix multiplication can be conducted.\n",
    "\n",
    "$\\rightarrow$ Only for vectors with shape (n,), not vectors with shape (n,1) or (1,n)."
   ]
  },
  {
   "cell_type": "code",
   "execution_count": 48,
   "metadata": {
    "id": "9zxQ-Ufweics"
   },
   "outputs": [],
   "source": [
    "y=np.array([[1],[0],[1],[0]])"
   ]
  },
  {
   "cell_type": "code",
   "execution_count": 49,
   "metadata": {
    "colab": {
     "base_uri": "https://localhost:8080/"
    },
    "id": "frKT36d2eics",
    "outputId": "22324c80-5c9a-44d1-c550-0ee081196209"
   },
   "outputs": [
    {
     "data": {
      "text/plain": [
       "array([[1],\n",
       "       [0],\n",
       "       [1],\n",
       "       [0]])"
      ]
     },
     "execution_count": 49,
     "metadata": {},
     "output_type": "execute_result"
    }
   ],
   "source": [
    "y"
   ]
  },
  {
   "cell_type": "code",
   "execution_count": 50,
   "metadata": {
    "colab": {
     "base_uri": "https://localhost:8080/"
    },
    "id": "XiVPTf-7eics",
    "outputId": "bca36403-5554-4660-c6e7-e39825100dec"
   },
   "outputs": [
    {
     "data": {
      "text/plain": [
       "(4, 1)"
      ]
     },
     "execution_count": 50,
     "metadata": {},
     "output_type": "execute_result"
    }
   ],
   "source": [
    "y.shape"
   ]
  },
  {
   "cell_type": "code",
   "execution_count": 51,
   "metadata": {
    "id": "UFQf4gWleict"
   },
   "outputs": [],
   "source": [
    "#you can do also \n",
    "y = np.array([1,0,1,0]).reshape((4,1))"
   ]
  },
  {
   "cell_type": "code",
   "execution_count": 52,
   "metadata": {
    "colab": {
     "base_uri": "https://localhost:8080/"
    },
    "id": "w7EJYl_Reict",
    "outputId": "4f191cf0-7c68-4c16-fab8-76131bfc2d9b"
   },
   "outputs": [
    {
     "data": {
      "text/plain": [
       "array([[1],\n",
       "       [0],\n",
       "       [1],\n",
       "       [0]])"
      ]
     },
     "execution_count": 52,
     "metadata": {},
     "output_type": "execute_result"
    }
   ],
   "source": [
    "y"
   ]
  },
  {
   "cell_type": "code",
   "execution_count": 53,
   "metadata": {
    "colab": {
     "base_uri": "https://localhost:8080/",
     "height": 174
    },
    "id": "A1D61G30eicu",
    "outputId": "8dd2270b-ac0c-43c9-a001-f31e7da24447"
   },
   "outputs": [
    {
     "ename": "ValueError",
     "evalue": "ignored",
     "output_type": "error",
     "traceback": [
      "\u001b[0;31m---------------------------------------------------------------------------\u001b[0m",
      "\u001b[0;31mValueError\u001b[0m                                Traceback (most recent call last)",
      "\u001b[0;32m<ipython-input-53-4461308f7380>\u001b[0m in \u001b[0;36m<module>\u001b[0;34m\u001b[0m\n\u001b[0;32m----> 1\u001b[0;31m \u001b[0mprint\u001b[0m\u001b[0;34m(\u001b[0m\u001b[0my\u001b[0m\u001b[0;34m.\u001b[0m\u001b[0mdot\u001b[0m\u001b[0;34m(\u001b[0m\u001b[0mA\u001b[0m\u001b[0;34m)\u001b[0m\u001b[0;34m)\u001b[0m \u001b[0;31m# 4 * 1   4 * 3\u001b[0m\u001b[0;34m\u001b[0m\u001b[0;34m\u001b[0m\u001b[0m\n\u001b[0m",
      "\u001b[0;31mValueError\u001b[0m: shapes (4,1) and (4,3) not aligned: 1 (dim 1) != 4 (dim 0)"
     ]
    }
   ],
   "source": [
    "print(y.dot(A)) # 4 * 1   4 * 3"
   ]
  },
  {
   "cell_type": "markdown",
   "metadata": {
    "id": "U6xCpJo_5LSH"
   },
   "source": [
    "### Transpose"
   ]
  },
  {
   "cell_type": "code",
   "execution_count": 55,
   "metadata": {
    "colab": {
     "base_uri": "https://localhost:8080/"
    },
    "id": "zAQw8Ibd5A0f",
    "outputId": "2a5c71ac-7fb2-4acc-f644-bba9d2d12470"
   },
   "outputs": [
    {
     "name": "stdout",
     "output_type": "stream",
     "text": [
      "[[1.08551253 1.09701057 0.5766345 ]]\n"
     ]
    }
   ],
   "source": [
    "print(y.T.dot(A))"
   ]
  },
  {
   "cell_type": "markdown",
   "metadata": {
    "id": "IxxtyYyM5Pbr"
   },
   "source": [
    "$$\n",
    "A_{ij}^T = A_{ji}\n",
    "$$"
   ]
  },
  {
   "cell_type": "code",
   "execution_count": 56,
   "metadata": {
    "colab": {
     "base_uri": "https://localhost:8080/"
    },
    "id": "TylDDExZeicx",
    "outputId": "1c23d52c-3dca-4433-efef-f3a113b1e045"
   },
   "outputs": [
    {
     "data": {
      "text/plain": [
       "array([[0.99545884, 0.91411571, 0.09005369, 0.63747538],\n",
       "       [0.62196653, 0.7401018 , 0.47504404, 0.15606845],\n",
       "       [0.34127708, 0.95939433, 0.23535741, 0.06833003]])"
      ]
     },
     "execution_count": 56,
     "metadata": {},
     "output_type": "execute_result"
    }
   ],
   "source": [
    "A.T"
   ]
  },
  {
   "cell_type": "code",
   "execution_count": 57,
   "metadata": {
    "colab": {
     "base_uri": "https://localhost:8080/"
    },
    "id": "E6REqVC1eicx",
    "outputId": "0e970cc2-046a-40d1-8705-644400651e2c"
   },
   "outputs": [
    {
     "data": {
      "text/plain": [
       "array([[0.99545884, 0.62196653, 0.34127708],\n",
       "       [0.91411571, 0.7401018 , 0.95939433],\n",
       "       [0.09005369, 0.47504404, 0.23535741],\n",
       "       [0.63747538, 0.15606845, 0.06833003]])"
      ]
     },
     "execution_count": 57,
     "metadata": {},
     "output_type": "execute_result"
    }
   ],
   "source": [
    "A"
   ]
  },
  {
   "cell_type": "markdown",
   "metadata": {
    "id": "v6Am8okqeicy"
   },
   "source": [
    "### inner products and outer products of vectors"
   ]
  },
  {
   "cell_type": "code",
   "execution_count": 58,
   "metadata": {
    "ExecuteTime": {
     "end_time": "2021-09-07T10:42:13.694368Z",
     "start_time": "2021-09-07T10:42:13.674884Z"
    },
    "colab": {
     "base_uri": "https://localhost:8080/"
    },
    "id": "HvVI5HEe1hyN",
    "outputId": "e651a4c0-0c41-461a-9639-7c7a7fce8106"
   },
   "outputs": [
    {
     "name": "stdout",
     "output_type": "stream",
     "text": [
      "2\n",
      "2\n"
     ]
    }
   ],
   "source": [
    "#inner products \n",
    "\n",
    "y = np.array([2,-1,3])\n",
    "z = np.array([-1,2,2])\n",
    "print(np.dot(y,z)) # y.dot(z)\n",
    "print(np.dot(z,y))"
   ]
  },
  {
   "cell_type": "code",
   "execution_count": 59,
   "metadata": {
    "colab": {
     "base_uri": "https://localhost:8080/"
    },
    "id": "I9XKPbRVeicz",
    "outputId": "4c1e9e0d-b89f-4c48-c5b3-d1b5f892ed54"
   },
   "outputs": [
    {
     "name": "stdout",
     "output_type": "stream",
     "text": [
      "[[-2  4  4]\n",
      " [ 1 -2 -2]\n",
      " [-3  6  6]]\n"
     ]
    }
   ],
   "source": [
    "#outer products\n",
    "\n",
    "print(np.outer(y,z))"
   ]
  },
  {
   "cell_type": "markdown",
   "metadata": {
    "id": "SGwJjR8j1hyO"
   },
   "source": [
    "inner product : (1,3) * (3, 1) ====> (1,1)\n",
    "\\\n",
    "outer product : (3,1) * (1,3)  ====> (3,3)"
   ]
  },
  {
   "cell_type": "markdown",
   "metadata": {
    "id": "VHkBxsKD5mwo"
   },
   "source": [
    "### Inverse"
   ]
  },
  {
   "cell_type": "code",
   "execution_count": 60,
   "metadata": {
    "ExecuteTime": {
     "end_time": "2021-09-07T10:44:41.250327Z",
     "start_time": "2021-09-07T10:44:41.220766Z"
    },
    "colab": {
     "base_uri": "https://localhost:8080/"
    },
    "id": "-FxhhUnB1hyT",
    "outputId": "77ccf473-e35e-45b7-d5b2-f8d7d9697afe"
   },
   "outputs": [
    {
     "name": "stdout",
     "output_type": "stream",
     "text": [
      "[[0.29357961 0.00562349 0.10440281 0.98849825]\n",
      " [0.45967604 0.59238833 0.10531662 0.09272088]\n",
      " [0.14479512 0.6208668  0.34070607 0.32883976]\n",
      " [0.03770905 0.01365625 0.80352545 0.02177459]]\n",
      "[[ 0.55915642  2.53443324 -2.4370707   0.62851694]\n",
      " [-0.56031368 -0.14533849  1.76887534 -0.65817666]\n",
      " [-0.03983246 -0.09637013  0.06515281  1.23469648]\n",
      " [ 0.85296318 -0.74171027  0.70685495 -0.31332811]]\n",
      "[[ 1.00000000e+00 -1.50463039e-16 -9.62719074e-17 -3.73911783e-17]\n",
      " [ 6.82986657e-17  1.00000000e+00 -1.44745656e-16 -5.17533217e-18]\n",
      " [-4.71465716e-17 -3.56913635e-17  1.00000000e+00  4.33779510e-17]\n",
      " [-1.61550027e-18 -1.11271479e-17 -1.12928388e-18  1.00000000e+00]]\n"
     ]
    }
   ],
   "source": [
    "x=np.random.rand(4,4)\n",
    "y=np.linalg.inv(x)\n",
    "print(x)\n",
    "print(y)\n",
    "print(x.dot(y))"
   ]
  },
  {
   "cell_type": "code",
   "execution_count": 61,
   "metadata": {
    "ExecuteTime": {
     "end_time": "2021-09-07T10:44:49.887998Z",
     "start_time": "2021-09-07T10:44:49.869336Z"
    },
    "colab": {
     "base_uri": "https://localhost:8080/"
    },
    "id": "TlFK_hz61hyU",
    "outputId": "48f03683-4b72-4d2f-da6c-c57cb27f3977"
   },
   "outputs": [
    {
     "data": {
      "text/plain": [
       "array([[ 1., -0., -0., -0.],\n",
       "       [ 0.,  1., -0., -0.],\n",
       "       [-0., -0.,  1.,  0.],\n",
       "       [-0., -0., -0.,  1.]])"
      ]
     },
     "execution_count": 61,
     "metadata": {},
     "output_type": "execute_result"
    }
   ],
   "source": [
    "np.round(x.dot(y),3)"
   ]
  },
  {
   "cell_type": "code",
   "execution_count": 62,
   "metadata": {
    "ExecuteTime": {
     "end_time": "2021-09-07T10:44:53.357632Z",
     "start_time": "2021-09-07T10:44:53.342155Z"
    },
    "colab": {
     "base_uri": "https://localhost:8080/"
    },
    "id": "97i84v5E1hyU",
    "outputId": "a9cb4f81-c2ef-42b0-b1b7-74efbaa1563c"
   },
   "outputs": [
    {
     "data": {
      "text/plain": [
       "3.568"
      ]
     },
     "execution_count": 62,
     "metadata": {},
     "output_type": "execute_result"
    }
   ],
   "source": [
    "np.round(3.5678,3)"
   ]
  },
  {
   "cell_type": "code",
   "execution_count": 63,
   "metadata": {
    "colab": {
     "base_uri": "https://localhost:8080/"
    },
    "id": "SZ4zghL7WLKD",
    "outputId": "e24dba02-be84-4bdf-834a-9a90bbcbdbea"
   },
   "outputs": [
    {
     "name": "stdout",
     "output_type": "stream",
     "text": [
      "[[0.29357961 0.00562349 0.10440281 0.98849825]\n",
      " [0.45967604 0.59238833 0.10531662 0.09272088]\n",
      " [0.14479512 0.6208668  0.34070607 0.32883976]\n",
      " [0.03770905 0.01365625 0.80352545 0.02177459]]\n"
     ]
    }
   ],
   "source": [
    "print(x)"
   ]
  },
  {
   "cell_type": "code",
   "execution_count": 64,
   "metadata": {
    "ExecuteTime": {
     "end_time": "2021-09-07T10:44:56.242391Z",
     "start_time": "2021-09-07T10:44:56.222918Z"
    },
    "colab": {
     "base_uri": "https://localhost:8080/"
    },
    "id": "pUdHo3ln1hyV",
    "outputId": "5cf45285-bc42-4b8a-9c31-5d318f2a1e7b"
   },
   "outputs": [
    {
     "data": {
      "text/plain": [
       "array([[0.54182987, 0.07498993, 0.32311424, 0.99423249],\n",
       "       [0.67799413, 0.76966768, 0.32452522, 0.30450104],\n",
       "       [0.38051953, 0.78795101, 0.58370033, 0.57344551],\n",
       "       [0.19418818, 0.11685996, 0.89639581, 0.14756216]])"
      ]
     },
     "execution_count": 64,
     "metadata": {},
     "output_type": "execute_result"
    }
   ],
   "source": [
    "# some functions such as np.round() are just applied elementwise\n",
    "\n",
    "np.sqrt(np.abs(x))"
   ]
  },
  {
   "cell_type": "markdown",
   "metadata": {
    "id": "Ak_2JZyu6IFv"
   },
   "source": [
    "## Mean, Var, Std, Median, Sum, Cov"
   ]
  },
  {
   "cell_type": "code",
   "execution_count": 65,
   "metadata": {
    "colab": {
     "base_uri": "https://localhost:8080/"
    },
    "id": "D1daKI2w9RgD",
    "outputId": "4986c5fc-22e0-4bc1-9c83-c7ab6a948e34"
   },
   "outputs": [
    {
     "data": {
      "text/plain": [
       "array([[0.90166499, 0.17819402, 0.45183003],\n",
       "       [0.19176103, 0.53778219, 0.77353736],\n",
       "       [0.45218809, 0.95938318, 0.2254742 ],\n",
       "       [0.70811951, 0.68988866, 0.65523565],\n",
       "       [0.91100667, 0.98448048, 0.98697204]])"
      ]
     },
     "execution_count": 65,
     "metadata": {},
     "output_type": "execute_result"
    }
   ],
   "source": [
    "x = np.random.rand(5,3)\n",
    "x"
   ]
  },
  {
   "cell_type": "markdown",
   "metadata": {
    "id": "T0DN2lRZ1hx0"
   },
   "source": [
    "### np.mean()\n"
   ]
  },
  {
   "cell_type": "code",
   "execution_count": 67,
   "metadata": {
    "ExecuteTime": {
     "end_time": "2021-09-07T10:38:25.947446Z",
     "start_time": "2021-09-07T10:38:25.938935Z"
    },
    "colab": {
     "base_uri": "https://localhost:8080/"
    },
    "id": "E1aCLWdE1hx0",
    "outputId": "97ff7062-a09d-46ca-8715-2644a5853802",
    "scrolled": false
   },
   "outputs": [
    {
     "name": "stdout",
     "output_type": "stream",
     "text": [
      "Mean with no axis : 0.6405012063939247\n",
      "Mean with axis along column : [0.63294806 0.66994571 0.61860985]\n",
      "Mean with axis along row : [0.51056301 0.50102686 0.54568183 0.68441461 0.96081973]\n"
     ]
    }
   ],
   "source": [
    "#print(\"Two Dimension array :\\n\", x)\n",
    "print(\"Mean with no axis :\", np.mean(x))\n",
    "print(\"Mean with axis along column :\", np.mean(x, axis=0)) #np.mean(x, 0)\n",
    "print(\"Mean with axis along row :\", np.mean(x, axis=1)) # np.mean(x,1)"
   ]
  },
  {
   "cell_type": "markdown",
   "metadata": {
    "id": "tLhn_72D1hx1"
   },
   "source": [
    "### np.var()\n"
   ]
  },
  {
   "cell_type": "markdown",
   "metadata": {
    "id": "l3BS-wdY1hx2"
   },
   "source": [
    "- Sample Variance\n",
    "$$\n",
    "S^2 = {1\\over N-1} \\sum^n_{i=1}{(X_i - \\bar X)}^2\n",
    "$$\n",
    "- `numpy.var()` however uses $N$ instead of $N-1$ in the denominator (It calculates the population variance instead of sample variance.)"
   ]
  },
  {
   "cell_type": "code",
   "execution_count": 68,
   "metadata": {
    "ExecuteTime": {
     "end_time": "2021-09-07T10:38:36.981942Z",
     "start_time": "2021-09-07T10:38:36.964464Z"
    },
    "colab": {
     "base_uri": "https://localhost:8080/"
    },
    "id": "7sC-AQiM1hx2",
    "outputId": "f6d11290-6540-4845-8ebd-f30eb2116a77"
   },
   "outputs": [
    {
     "name": "stdout",
     "output_type": "stream",
     "text": [
      "Two Dimension array\n",
      " : [[0.90166499 0.17819402 0.45183003]\n",
      " [0.19176103 0.53778219 0.77353736]\n",
      " [0.45218809 0.95938318 0.2254742 ]\n",
      " [0.70811951 0.68988866 0.65523565]\n",
      " [0.91100667 0.98448048 0.98697204]]\n",
      "Variance with no axis : 0.07835394890118282\n",
      "Variance with axis along column : [0.07649926 0.08847816 0.06868117]\n",
      "Variance with axis along row : [0.08895982 0.05708609 0.09414094 0.0004811  0.00124171]\n"
     ]
    }
   ],
   "source": [
    "print(\"Two Dimension array\\n :\", x)\n",
    "print(\"Variance with no axis :\", np.var(x))\n",
    "print(\"Variance with axis along column :\", np.var(x, axis=0)) #np.var(x,0)\n",
    "print(\"Variance with axis along row :\", np.var(x, axis=1)) #np.var(x,1)"
   ]
  },
  {
   "cell_type": "markdown",
   "metadata": {
    "id": "QPeOHjcJ1hx3"
   },
   "source": [
    "### np.std()\n",
    "\n",
    " "
   ]
  },
  {
   "cell_type": "code",
   "execution_count": 69,
   "metadata": {
    "ExecuteTime": {
     "end_time": "2021-09-07T10:40:49.761306Z",
     "start_time": "2021-09-07T10:40:49.745238Z"
    },
    "colab": {
     "base_uri": "https://localhost:8080/"
    },
    "id": "sPR3Q4Ce1hx3",
    "outputId": "fcfe9ba1-3b15-4e81-fc1d-6cd3070f5214",
    "scrolled": false
   },
   "outputs": [
    {
     "name": "stdout",
     "output_type": "stream",
     "text": [
      "Two Dimension array\n",
      " : [[0.90166499 0.17819402 0.45183003]\n",
      " [0.19176103 0.53778219 0.77353736]\n",
      " [0.45218809 0.95938318 0.2254742 ]\n",
      " [0.70811951 0.68988866 0.65523565]\n",
      " [0.91100667 0.98448048 0.98697204]]\n",
      "Standard Deviation with no axis : 0.2799177538156214\n",
      "Standard Deviation with axis along column : [0.27658499 0.29745279 0.26207092]\n",
      "Standard Deviation with axis along row : [0.29826133 0.23892696 0.30682395 0.02193399 0.03523784]\n"
     ]
    }
   ],
   "source": [
    "print(\"Two Dimension array\\n :\", x)\n",
    "print(\"Standard Deviation with no axis :\", np.std(x))\n",
    "print(\"Standard Deviation with axis along column :\", np.std(x, axis=0)) #np.std(x,0)\n",
    "print(\"Standard Deviation with axis along row :\", np.std(x, axis=1)) #np.std(x,1)"
   ]
  },
  {
   "cell_type": "markdown",
   "metadata": {
    "id": "BWsf9kqB1hx4"
   },
   "source": [
    "### np.median()\n"
   ]
  },
  {
   "cell_type": "markdown",
   "metadata": {
    "id": "UpzAxfpc1hx4"
   },
   "source": [
    "- When $n$ is odd.\n",
    "\\\n",
    "\\\n",
    "    np.median = \n",
    "$$\n",
    "Median(X) = {X_{\\left[{{{n+1} \\over 2}}\\right]}}\n",
    "$$\n",
    "\n",
    "- When $n$ is even\n",
    "\\\n",
    "\\\n",
    "    np.median = \n",
    "$$\n",
    "Median(X) = {1\\over 2} \\{{X_{\\lfloor{{n+1\\over 2}}\\rfloor}}+X_{\\lceil{{n+1\\over 2}}\\rceil}\\}\n",
    "$$"
   ]
  },
  {
   "cell_type": "code",
   "execution_count": 70,
   "metadata": {
    "ExecuteTime": {
     "end_time": "2021-09-07T10:38:12.406729Z",
     "start_time": "2021-09-07T10:38:12.388687Z"
    },
    "colab": {
     "base_uri": "https://localhost:8080/"
    },
    "id": "JEBvCxE-1hx5",
    "outputId": "373f2b5e-5442-463e-c915-df8bc7e14595",
    "scrolled": true
   },
   "outputs": [
    {
     "name": "stdout",
     "output_type": "stream",
     "text": [
      "Two Dimension array\n",
      " : [[0.90166499 0.17819402 0.45183003]\n",
      " [0.19176103 0.53778219 0.77353736]\n",
      " [0.45218809 0.95938318 0.2254742 ]\n",
      " [0.70811951 0.68988866 0.65523565]\n",
      " [0.91100667 0.98448048 0.98697204]]\n",
      "Median with no axis : 0.6898886611505486\n",
      "Median with axis along column : [0.70811951 0.68988866 0.65523565]\n",
      "Median with axis along row : [0.45183003 0.53778219 0.45218809 0.68988866 0.98448048]\n"
     ]
    }
   ],
   "source": [
    "print(\"Two Dimension array\\n :\", x)\n",
    "print(\"Median with no axis :\", np.median(x))\n",
    "print(\"Median with axis along column :\", np.median(x, axis=0)) #np.median(x, 0)\n",
    "print(\"Median with axis along row :\", np.median(x, axis=1)) #np.median(x, 1)"
   ]
  },
  {
   "cell_type": "markdown",
   "metadata": {
    "id": "lMlUwBkp1hx6"
   },
   "source": [
    "### np.sum()\n"
   ]
  },
  {
   "cell_type": "code",
   "execution_count": 71,
   "metadata": {
    "ExecuteTime": {
     "end_time": "2021-09-07T10:40:28.430646Z",
     "start_time": "2021-09-07T10:40:28.414696Z"
    },
    "colab": {
     "base_uri": "https://localhost:8080/"
    },
    "id": "FvI_Wv0x1hx6",
    "outputId": "f621ed86-ab55-41fb-e89a-88f582e745e3"
   },
   "outputs": [
    {
     "name": "stdout",
     "output_type": "stream",
     "text": [
      "Two Dimension array\n",
      " : [[0.90166499 0.17819402 0.45183003]\n",
      " [0.19176103 0.53778219 0.77353736]\n",
      " [0.45218809 0.95938318 0.2254742 ]\n",
      " [0.70811951 0.68988866 0.65523565]\n",
      " [0.91100667 0.98448048 0.98697204]]\n",
      "Sum with no axis : 9.60751809590887\n",
      "Sum with axis along column : [3.16474029 3.34972853 3.09304927]\n",
      "Sum with axis along row : [1.53168903 1.50308057 1.63704548 2.05324382 2.88245919]\n"
     ]
    }
   ],
   "source": [
    "print(\"Two Dimension array\\n :\", x)\n",
    "print(\"Sum with no axis :\", np.sum(x))\n",
    "print(\"Sum with axis along column :\", np.sum(x, axis=0)) #np.sum(x, 0)\n",
    "print(\"Sum with axis along row :\", np.sum(x, axis=1)) #np.sum(x, 1)"
   ]
  },
  {
   "cell_type": "markdown",
   "metadata": {
    "id": "5Vgor5sK1hyE"
   },
   "source": [
    "### np.cov()\n"
   ]
  },
  {
   "cell_type": "markdown",
   "metadata": {
    "id": "pqThY8-w1hyE"
   },
   "source": [
    "- Sample Covariance\n",
    "$$\n",
    "Cov(x,y) = S_{xy} = {1\\over N-1} \\sum^n_{i=1}{(X_i - \\bar X)}{(Y_i - \\bar Y)}\n",
    "$$\n",
    "\n",
    "$$\n",
    "\\begin{pmatrix} Cov(x,x) & Cov(x,y) \\\\ Cov(x,y) & Cov(y,y) \\end{pmatrix}\n",
    "$$"
   ]
  },
  {
   "cell_type": "code",
   "execution_count": 72,
   "metadata": {
    "ExecuteTime": {
     "end_time": "2021-09-07T12:34:34.139552Z",
     "start_time": "2021-09-07T12:34:34.124073Z"
    },
    "id": "frovg4B61hyE"
   },
   "outputs": [],
   "source": [
    "x = np.array([-2.1, -1,  4.3]) # N =3\n",
    "y = np.array([3,  1.1,  0.12])"
   ]
  },
  {
   "cell_type": "code",
   "execution_count": 73,
   "metadata": {
    "ExecuteTime": {
     "end_time": "2021-09-07T12:34:34.325001Z",
     "start_time": "2021-09-07T12:34:34.316025Z"
    },
    "colab": {
     "base_uri": "https://localhost:8080/"
    },
    "id": "BE6qRpl31hyE",
    "outputId": "911f5606-8dde-4bb3-acd5-18e5b44bbbca",
    "scrolled": false
   },
   "outputs": [
    {
     "name": "stdout",
     "output_type": "stream",
     "text": [
      "Covariance Matrix of 1-Dimension array\n",
      " : [[11.71       -4.286     ]\n",
      " [-4.286       2.14413333]]\n",
      "Real Covariance of x and y is: -4.2860000000000005\n"
     ]
    }
   ],
   "source": [
    "#print(\"Two 1- Dimension array\\n :\", x,y)\n",
    "print(\"Covariance Matrix of 1-Dimension array\\n :\", np.cov(x,y))\n",
    "print(\"Covariance of x and y is:\",np.cov(x,y)[0][1])"
   ]
  },
  {
   "cell_type": "code",
   "execution_count": 74,
   "metadata": {
    "colab": {
     "base_uri": "https://localhost:8080/"
    },
    "id": "CQvn7dF-eidA",
    "outputId": "6642e073-f8dc-4e47-c30b-c2172527686d"
   },
   "outputs": [
    {
     "data": {
      "text/plain": [
       "7.806666666666666"
      ]
     },
     "execution_count": 74,
     "metadata": {},
     "output_type": "execute_result"
    }
   ],
   "source": [
    "np.var(x) # divides by N"
   ]
  },
  {
   "cell_type": "code",
   "execution_count": 75,
   "metadata": {
    "colab": {
     "base_uri": "https://localhost:8080/"
    },
    "id": "tnnX04fueidB",
    "outputId": "887a27b9-4488-4529-e361-76c1a0a888bc"
   },
   "outputs": [
    {
     "data": {
      "text/plain": [
       "11.709999999999999"
      ]
     },
     "execution_count": 75,
     "metadata": {},
     "output_type": "execute_result"
    }
   ],
   "source": [
    "np.cov(x,y)[0,0] #divides by N-1"
   ]
  },
  {
   "cell_type": "code",
   "execution_count": 76,
   "metadata": {
    "colab": {
     "base_uri": "https://localhost:8080/"
    },
    "id": "swSdNlRueidB",
    "outputId": "9976473c-1080-4b09-b946-dca7343c08d6"
   },
   "outputs": [
    {
     "data": {
      "text/plain": [
       "11.709999999999999"
      ]
     },
     "execution_count": 76,
     "metadata": {},
     "output_type": "execute_result"
    }
   ],
   "source": [
    "np.var(x)*3/2"
   ]
  },
  {
   "cell_type": "markdown",
   "metadata": {
    "id": "SfXERO3T1hx7"
   },
   "source": [
    "### Compute the mean, variance, and standard deviation of ( $\\mathbf X$ : $N * 1$) as matrix operation"
   ]
  },
  {
   "cell_type": "markdown",
   "metadata": {
    "id": "yd1HHga91hx9"
   },
   "source": [
    "- Mean\n",
    "\n",
    "$$\\bar X = {1\\over N} \\sum^n_{i=1}X_i $$\n",
    "\n",
    "$$\n",
    "= {1\\over N} \\mathbf 1 \\circ X = {1\\over N} \\mathbf 1^T  X\n",
    "$$\n",
    "\n",
    "$$\n",
    "{1\\over N} \\begin{bmatrix} 1 &  \\cdots &  1 \\end{bmatrix}_{1*n} * \\begin{bmatrix} X_1  \\\\ \\vdots \\\\ X_n \\end{bmatrix}_{n*1} = \\bar X_{1*1}\n",
    "$$"
   ]
  },
  {
   "cell_type": "code",
   "execution_count": 77,
   "metadata": {
    "ExecuteTime": {
     "end_time": "2021-09-07T12:32:36.790007Z",
     "start_time": "2021-09-07T12:32:36.769538Z"
    },
    "colab": {
     "base_uri": "https://localhost:8080/"
    },
    "id": "DPP37rxt1hx8",
    "outputId": "36d79376-76de-49d5-d018-b2e0dfaac5af"
   },
   "outputs": [
    {
     "data": {
      "text/plain": [
       "array([[0.40547964],\n",
       "       [0.80990644],\n",
       "       [0.95422128],\n",
       "       [0.70262176]])"
      ]
     },
     "execution_count": 77,
     "metadata": {},
     "output_type": "execute_result"
    }
   ],
   "source": [
    "temp1 = np.random.rand(4,1) # X\n",
    "temp1"
   ]
  },
  {
   "cell_type": "code",
   "execution_count": 80,
   "metadata": {
    "ExecuteTime": {
     "end_time": "2021-09-07T12:32:38.689062Z",
     "start_time": "2021-09-07T12:32:38.682497Z"
    },
    "id": "b-ZS1hQL1hx-"
   },
   "outputs": [],
   "source": [
    "def MEAN_MADE(vector):\n",
    "    N=vector.shape[0]  # can also do N=len(vector)\n",
    "    return vector.T.dot(np.ones((N,1)))/N"
   ]
  },
  {
   "cell_type": "code",
   "execution_count": 81,
   "metadata": {
    "ExecuteTime": {
     "end_time": "2021-09-07T12:32:38.859341Z",
     "start_time": "2021-09-07T12:32:38.850338Z"
    },
    "colab": {
     "base_uri": "https://localhost:8080/"
    },
    "id": "yy62gpHK1hx-",
    "outputId": "ddc8be52-f159-4c25-eedc-7196722c180b"
   },
   "outputs": [
    {
     "name": "stdout",
     "output_type": "stream",
     "text": [
      "Mean function in numpy: 0.7180572805940588\n",
      "Mean calculated by made function: [[0.71805728]]\n"
     ]
    }
   ],
   "source": [
    "print(\"Mean function in numpy:\", np.mean(temp1))\n",
    "print(\"Mean calculated by made function:\", MEAN_MADE(temp1))"
   ]
  },
  {
   "cell_type": "code",
   "execution_count": 82,
   "metadata": {
    "colab": {
     "base_uri": "https://localhost:8080/"
    },
    "id": "PRQAdsQrWPAW",
    "outputId": "6a8e7ec5-5c1a-4a31-fd3f-9a5e22eb0a1c"
   },
   "outputs": [
    {
     "data": {
      "text/plain": [
       "0.7180572805940588"
      ]
     },
     "execution_count": 82,
     "metadata": {},
     "output_type": "execute_result"
    }
   ],
   "source": [
    "MEAN_MADE(temp1).item()"
   ]
  },
  {
   "cell_type": "markdown",
   "metadata": {
    "id": "o766COfT1hx_"
   },
   "source": [
    "- Variance\n",
    "    - VAR_MADE\n",
    "$$\n",
    "S^2 = {1\\over N-1}{(X- \\mathbf 1 \\bar X)^T}{(X- \\mathbf 1 \\bar X)}\n",
    "$$"
   ]
  },
  {
   "cell_type": "code",
   "execution_count": 83,
   "metadata": {
    "colab": {
     "base_uri": "https://localhost:8080/"
    },
    "id": "oGs_x3pueidE",
    "outputId": "3bff3676-e672-4927-cf79-407739005bc8"
   },
   "outputs": [
    {
     "data": {
      "text/plain": [
       "array([[0.40547964],\n",
       "       [0.80990644],\n",
       "       [0.95422128],\n",
       "       [0.70262176]])"
      ]
     },
     "execution_count": 83,
     "metadata": {},
     "output_type": "execute_result"
    }
   ],
   "source": [
    "temp1 # X"
   ]
  },
  {
   "cell_type": "code",
   "execution_count": 84,
   "metadata": {
    "ExecuteTime": {
     "end_time": "2021-09-07T12:32:40.366155Z",
     "start_time": "2021-09-07T12:32:40.355185Z"
    },
    "id": "M0wgr4EK1hyA"
   },
   "outputs": [],
   "source": [
    "def VAR_MADE(vector):\n",
    "    mu = MEAN_MADE(vector).item()\n",
    "    N = vector.shape[0]\n",
    "    temp = vector - mu * np.ones((N,1))\n",
    "    \n",
    "    return temp.T.dot(temp)/(N-1)"
   ]
  },
  {
   "cell_type": "markdown",
   "metadata": {
    "id": "wCmet5BY965o"
   },
   "source": [
    "- VAR_MADE2\n",
    "\n",
    "$$\n",
    "= {1\\over N-1}{(\\mathbf I X- {1\\over N} \\mathbf 1 \\mathbf 1^T X)^T}{(\\mathbf I X- {1\\over N} \\mathbf 1 \\mathbf 1^T X)}\n",
    "$$\n",
    "\n",
    "$$\n",
    "= {1\\over N-1}{X^T(\\mathbf I - {1\\over N} \\mathbf 1 \\mathbf 1^T )^T}{(\\mathbf I - {1\\over N} \\mathbf 1 \\mathbf 1^T )X}\n",
    "$$\n"
   ]
  },
  {
   "cell_type": "code",
   "execution_count": 85,
   "metadata": {
    "ExecuteTime": {
     "end_time": "2021-09-07T12:32:40.505184Z",
     "start_time": "2021-09-07T12:32:40.499198Z"
    },
    "id": "hIpztc6T1hyA"
   },
   "outputs": [],
   "source": [
    "def VAR_MADE2(vector):\n",
    "    N = vector.shape[0]\n",
    "    \n",
    "    temp = np.eye(N)\n",
    "    one_vec = np.ones((N,1))\n",
    "    \n",
    "    \n",
    "    temp = temp - one_vec.dot(one_vec.T)/N\n",
    "    \n",
    "    return vector.T.dot(temp.T).dot(temp).dot(vector)/(N-1)"
   ]
  },
  {
   "cell_type": "markdown",
   "metadata": {
    "id": "fI6JFhIb1hyB"
   },
   "source": [
    "- VAR_MADE3\n",
    "$$\n",
    "= {1\\over N-1}{X^T(\\mathbf I - {1\\over N} \\mathbf 1 \\mathbf 1^T )}X\n",
    "$$"
   ]
  },
  {
   "cell_type": "code",
   "execution_count": 86,
   "metadata": {
    "ExecuteTime": {
     "end_time": "2021-09-07T12:32:41.207934Z",
     "start_time": "2021-09-07T12:32:41.194448Z"
    },
    "id": "7Wi4kIzP1hyB"
   },
   "outputs": [],
   "source": [
    "def VAR_MADE3(vector):\n",
    "    N = vector.shape[0]\n",
    "    \n",
    "    temp = np.eye(N)\n",
    "    one_vec = np.ones((N,1))\n",
    "    \n",
    "    temp = temp - one_vec.dot(one_vec.T)/N\n",
    "    \n",
    "    return vector.T.dot(temp).dot(vector)/(N-1)"
   ]
  },
  {
   "cell_type": "code",
   "execution_count": 87,
   "metadata": {
    "ExecuteTime": {
     "end_time": "2021-09-07T12:32:41.722740Z",
     "start_time": "2021-09-07T12:32:41.714761Z"
    },
    "colab": {
     "base_uri": "https://localhost:8080/"
    },
    "id": "SsVPQWmK1hyC",
    "outputId": "077b040d-8ec3-4034-8b2b-72f2cd0d6876",
    "scrolled": true
   },
   "outputs": [
    {
     "name": "stdout",
     "output_type": "stream",
     "text": [
      "Variance function in numpy: 0.054050914803421064\n",
      "Variance calculated by made function1: [[0.05405091]]\n",
      "Variance calculated by made function2: [[0.05405091]]\n",
      "Variance calculated by made function3: [[0.05405091]]\n"
     ]
    }
   ],
   "source": [
    "print(\"Variance function in numpy:\", np.var(temp1)*len(temp1)/(len(temp1)-1))\n",
    "print(\"Variance calculated by made function1:\", VAR_MADE(temp1))\n",
    "print(\"Variance calculated by made function2:\", VAR_MADE2(temp1))\n",
    "print(\"Variance calculated by made function3:\", VAR_MADE3(temp1))"
   ]
  },
  {
   "cell_type": "code",
   "execution_count": 88,
   "metadata": {
    "colab": {
     "base_uri": "https://localhost:8080/"
    },
    "id": "KvCAA8OlWXLp",
    "outputId": "f5a73e73-707c-45e8-ea11-a46f2fd9ffd9"
   },
   "outputs": [
    {
     "data": {
      "text/plain": [
       "0.054050914803421064"
      ]
     },
     "execution_count": 88,
     "metadata": {},
     "output_type": "execute_result"
    }
   ],
   "source": [
    "VAR_MADE(temp1).item()"
   ]
  },
  {
   "cell_type": "code",
   "execution_count": 89,
   "metadata": {
    "colab": {
     "base_uri": "https://localhost:8080/"
    },
    "id": "0E2-vjloWbe0",
    "outputId": "117408ae-13f0-4564-b497-58cdce22fbdb"
   },
   "outputs": [
    {
     "data": {
      "text/plain": [
       "0.05405091480342106"
      ]
     },
     "execution_count": 89,
     "metadata": {},
     "output_type": "execute_result"
    }
   ],
   "source": [
    "VAR_MADE2(temp1).item()"
   ]
  },
  {
   "cell_type": "code",
   "execution_count": 90,
   "metadata": {
    "colab": {
     "base_uri": "https://localhost:8080/"
    },
    "id": "3OXVIAdIWbip",
    "outputId": "8b77741c-fea9-4dd1-e765-e687e5665244"
   },
   "outputs": [
    {
     "data": {
      "text/plain": [
       "0.054050914803421064"
      ]
     },
     "execution_count": 90,
     "metadata": {},
     "output_type": "execute_result"
    }
   ],
   "source": [
    "VAR_MADE3(temp1).item()"
   ]
  },
  {
   "cell_type": "markdown",
   "metadata": {
    "id": "C7UBwD8c1hyC"
   },
   "source": [
    "- Standard Deviation\n",
    "\n",
    "$$Std(X) = \\sqrt{Var(X)} = \\sqrt{S^2} = S$$"
   ]
  },
  {
   "cell_type": "code",
   "execution_count": 95,
   "metadata": {
    "ExecuteTime": {
     "end_time": "2021-09-07T12:32:43.869801Z",
     "start_time": "2021-09-07T12:32:43.864814Z"
    },
    "id": "k8JGFRO-1hyD"
   },
   "outputs": [],
   "source": [
    "def STD_MADE(vector):\n",
    "    return np.sqrt(VAR_MADE(vector))"
   ]
  },
  {
   "cell_type": "code",
   "execution_count": 96,
   "metadata": {
    "ExecuteTime": {
     "end_time": "2021-09-07T12:32:44.102093Z",
     "start_time": "2021-09-07T12:32:44.082622Z"
    },
    "colab": {
     "base_uri": "https://localhost:8080/"
    },
    "id": "ryWv6nop1hyD",
    "outputId": "69ee6df9-d2a4-4f41-9c83-4265f397476b",
    "scrolled": true
   },
   "outputs": [
    {
     "name": "stdout",
     "output_type": "stream",
     "text": [
      "Variance function in numpy: 0.23248852617585467\n",
      "Variance calculated by made function: [[0.23248853]]\n"
     ]
    }
   ],
   "source": [
    "print(\"Using function in numpy:\", np.std(temp1)*np.sqrt(len(temp1)/(len(temp1)-1)))\n",
    "print(\"Using STD_MADE:\", STD_MADE(temp1))"
   ]
  },
  {
   "cell_type": "code",
   "execution_count": 98,
   "metadata": {
    "colab": {
     "base_uri": "https://localhost:8080/"
    },
    "id": "AC0OnWwMWsB2",
    "outputId": "1ce58f1c-054d-4ef8-f27b-f9013d53cf80"
   },
   "outputs": [
    {
     "data": {
      "text/plain": [
       "0.23248852617585467"
      ]
     },
     "execution_count": 98,
     "metadata": {},
     "output_type": "execute_result"
    }
   ],
   "source": [
    "STD_MADE(temp1).item()"
   ]
  },
  {
   "cell_type": "markdown",
   "metadata": {
    "id": "9fcPIOOo1hyF"
   },
   "source": [
    "- Covariance\n",
    "    \n",
    "$$\n",
    "S_{xy} = {1\\over N-1}∑{(X_i - \\bar X)^T}{(Y_i - \\bar Y)}\n",
    "$$\n",
    "- COVAR_MADE1\n",
    "$$\n",
    "= {1\\over N-1}{(X- \\mathbf 1 \\bar X)^T}{(Y- \\mathbf 1 \\bar Y)}\n",
    "$$\n",
    "    \n",
    "$$\n",
    "= {1\\over N-1}{(\\mathbf I X- {1\\over N} \\mathbf 1 \\mathbf 1^T X)^T}{(\\mathbf I Y- {1\\over N} \\mathbf 1 \\mathbf 1^T Y)}\n",
    "$$\n",
    "- COVAR_MADE2\n",
    "$$\n",
    "= {1\\over N-1}{X^T(\\mathbf I - {1\\over N} \\mathbf 1 \\mathbf 1^T )^T}{(\\mathbf I - {1\\over N} \\mathbf 1 \\mathbf 1^T )Y}\n",
    "$$\n",
    "- COVAR_MADE3\n",
    "$$\n",
    "= {1\\over N-1}{X^T(\\mathbf I - {1\\over N} \\mathbf 1 \\mathbf 1^T )}Y\n",
    "$$"
   ]
  },
  {
   "cell_type": "code",
   "execution_count": 99,
   "metadata": {
    "ExecuteTime": {
     "end_time": "2021-09-07T12:34:40.574706Z",
     "start_time": "2021-09-07T12:34:40.565184Z"
    },
    "id": "orKmXBwO1hyG"
   },
   "outputs": [],
   "source": [
    "def COVAR_MADE(vector1, vector2):\n",
    "    mu1 = MEAN_MADE(vector1)[0,0]\n",
    "    mu2 = MEAN_MADE(vector2)[0,0]\n",
    "    N = len(vector1)\n",
    "    \n",
    "    temp1 = vector1 - mu1*np.ones((N,1))\n",
    "    temp2 = vector2 - mu2*np.ones((N,1))\n",
    "    \n",
    "    return temp1.T.dot(temp2)/(N-1)"
   ]
  },
  {
   "cell_type": "code",
   "execution_count": 100,
   "metadata": {
    "ExecuteTime": {
     "end_time": "2021-09-07T12:34:40.732609Z",
     "start_time": "2021-09-07T12:34:40.721638Z"
    },
    "id": "Yo9DsGDV1hyG"
   },
   "outputs": [],
   "source": [
    "def COVAR_MADE2(vector1, vector2):\n",
    "    \n",
    "    N = len(vector1)\n",
    "    temp = np.eye(N)\n",
    "    one_vec = np.ones((N,1))\n",
    "    \n",
    "    temp = temp - one_vec.dot(one_vec.T)/N\n",
    "    \n",
    "    return vector1.T.dot(temp.T).dot(temp).dot(vector2)/(N-1)"
   ]
  },
  {
   "cell_type": "code",
   "execution_count": 101,
   "metadata": {
    "ExecuteTime": {
     "end_time": "2021-09-07T12:34:40.888430Z",
     "start_time": "2021-09-07T12:34:40.882443Z"
    },
    "id": "X1jyKgvb1hyG"
   },
   "outputs": [],
   "source": [
    "def COVAR_MADE3(vector1, vector2):\n",
    "    N = len(vector1)\n",
    "    \n",
    "    temp = np.eye(N)\n",
    "    one_vec = np.ones((N,1))\n",
    "    \n",
    "    temp = temp - one_vec.dot(one_vec.T)/N\n",
    "    \n",
    "    return vector1.T.dot(temp).dot(vector2)/(N-1)"
   ]
  },
  {
   "cell_type": "code",
   "execution_count": 102,
   "metadata": {
    "id": "GuHJHBJm8M9r"
   },
   "outputs": [],
   "source": [
    "x = np.array([-2.1, -1,  4.3])\n",
    "y = np.array([3,  1.1,  0.12])"
   ]
  },
  {
   "cell_type": "code",
   "execution_count": 103,
   "metadata": {
    "ExecuteTime": {
     "end_time": "2021-09-07T12:34:57.099367Z",
     "start_time": "2021-09-07T12:34:57.083724Z"
    },
    "colab": {
     "base_uri": "https://localhost:8080/"
    },
    "id": "3csk5H181hyH",
    "outputId": "0b769773-b101-4e2f-ef7e-3f8630b335c1"
   },
   "outputs": [
    {
     "name": "stdout",
     "output_type": "stream",
     "text": [
      "[[11.71       -4.286     ]\n",
      " [-4.286       2.14413333]]\n",
      "Covariance of x and y calculated by function in numpy: -4.2860000000000005\n",
      "Covariance calculated by made function1: [[-4.286]]\n",
      "Covariance calculated by made function2: [[-4.286]]\n",
      "Covariance calculated by made function3: [[-4.286]]\n"
     ]
    }
   ],
   "source": [
    "print(np.cov(x,y))\n",
    "print(\"Covariance of x and y calculated by function in numpy:\", np.cov(x,y)[0][1])\n",
    "\n",
    "x=x.reshape((3,1))\n",
    "y=y.reshape((3,1))\n",
    "\n",
    "print(\"Covariance calculated by made function1:\", COVAR_MADE(x,y))\n",
    "print(\"Covariance calculated by made function2:\", COVAR_MADE2(x,y))\n",
    "print(\"Covariance calculated by made function3:\", COVAR_MADE3(x,y))"
   ]
  },
  {
   "cell_type": "code",
   "execution_count": 104,
   "metadata": {
    "colab": {
     "base_uri": "https://localhost:8080/"
    },
    "id": "kkpD7h_YW5MM",
    "outputId": "2a4b2c52-2d81-4b4f-a4c9-1675092b98b8"
   },
   "outputs": [
    {
     "data": {
      "text/plain": [
       "-4.2860000000000005"
      ]
     },
     "execution_count": 104,
     "metadata": {},
     "output_type": "execute_result"
    }
   ],
   "source": [
    "COVAR_MADE(x,y).item()"
   ]
  },
  {
   "cell_type": "code",
   "execution_count": 105,
   "metadata": {
    "colab": {
     "base_uri": "https://localhost:8080/"
    },
    "id": "t1YVNsYXW7qv",
    "outputId": "2ed09809-3b19-43ff-9344-a1a2de2317e6"
   },
   "outputs": [
    {
     "data": {
      "text/plain": [
       "-4.286"
      ]
     },
     "execution_count": 105,
     "metadata": {},
     "output_type": "execute_result"
    }
   ],
   "source": [
    "COVAR_MADE2(x,y).item()"
   ]
  },
  {
   "cell_type": "code",
   "execution_count": 106,
   "metadata": {
    "colab": {
     "base_uri": "https://localhost:8080/"
    },
    "id": "CoMRLzxHW9P2",
    "outputId": "2b16dd6a-7478-4976-fca9-7ecb094a0eee"
   },
   "outputs": [
    {
     "data": {
      "text/plain": [
       "-4.286"
      ]
     },
     "execution_count": 106,
     "metadata": {},
     "output_type": "execute_result"
    }
   ],
   "source": [
    "COVAR_MADE3(x,y).item()"
   ]
  }
 ],
 "metadata": {
  "colab": {
   "collapsed_sections": [],
   "provenance": []
  },
  "kernelspec": {
   "display_name": "Python 3 (ipykernel)",
   "language": "python",
   "name": "python3"
  },
  "language_info": {
   "codemirror_mode": {
    "name": "ipython",
    "version": 3
   },
   "file_extension": ".py",
   "mimetype": "text/x-python",
   "name": "python",
   "nbconvert_exporter": "python",
   "pygments_lexer": "ipython3",
   "version": "3.9.13"
  },
  "toc": {
   "base_numbering": 1,
   "nav_menu": {},
   "number_sections": true,
   "sideBar": true,
   "skip_h1_title": false,
   "title_cell": "Table of Contents",
   "title_sidebar": "Contents",
   "toc_cell": false,
   "toc_position": {},
   "toc_section_display": true,
   "toc_window_display": false
  },
  "varInspector": {
   "cols": {
    "lenName": 16,
    "lenType": 16,
    "lenVar": 40
   },
   "kernels_config": {
    "python": {
     "delete_cmd_postfix": "",
     "delete_cmd_prefix": "del ",
     "library": "var_list.py",
     "varRefreshCmd": "print(var_dic_list())"
    },
    "r": {
     "delete_cmd_postfix": ") ",
     "delete_cmd_prefix": "rm(",
     "library": "var_list.r",
     "varRefreshCmd": "cat(var_dic_list()) "
    }
   },
   "types_to_exclude": [
    "module",
    "function",
    "builtin_function_or_method",
    "instance",
    "_Feature"
   ],
   "window_display": false
  }
 },
 "nbformat": 4,
 "nbformat_minor": 1
}
